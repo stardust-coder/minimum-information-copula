{
 "cells": [
  {
   "cell_type": "code",
   "execution_count": 8,
   "metadata": {},
   "outputs": [],
   "source": [
    "import numpy as np\n",
    "from math import gamma, sqrt\n",
    "import scipy.stats as stats"
   ]
  },
  {
   "cell_type": "markdown",
   "metadata": {},
   "source": [
    "# 非対称t分布"
   ]
  },
  {
   "cell_type": "code",
   "execution_count": 44,
   "metadata": {},
   "outputs": [],
   "source": [
    "#AC 非対称 t 分布\n",
    "d = 2\n",
    "\n",
    "def t(d,nu,x,Psi):\n",
    "    res = (1+x.T@np.linalg.inv(Psi)@x/nu)**(-(nu+d)/2)\n",
    "    res = res * gamma((nu+d)/2)/gamma(nu/2)\n",
    "    res = res / ((np.pi*nu)**(d/2))\n",
    "    res = res / np.sqrt(np.linalg.norm(Psi))\n",
    "    return res\n",
    "\n",
    "def T_one(nu,x): #自由度nuの1変量t分布CDF\n",
    "    return stats.t.cdf(x, nu)\n",
    "\n",
    "def ACSyst_joint(x,Omega,alpha,nu):\n",
    "    '''\n",
    "    x : ndarray (2,1)\n",
    "    return : scalar\n",
    "    '''\n",
    "    res = 2*t(d,nu,x,Omega)*T_one(nu+d,alpha.T@x*np.sqrt((nu+d)/x.T@Omega@x+nu))\n",
    "    return res.item()"
   ]
  },
  {
   "cell_type": "code",
   "execution_count": 45,
   "metadata": {},
   "outputs": [],
   "source": [
    "Psi = np.array([[1,0],[0,1]])#相関行列\n",
    "delta = np.array([[0.1,0.2]]).T #歪みパラメタ\n",
    "Delta = np.diag([sqrt(1-delta[i][0]**2) for i in range(d)])\n",
    "Omega = Delta@(Psi+delta@delta.T)@Delta\n",
    "Omega_inv = np.linalg.inv(Omega)\n",
    "alpha = Omega_inv@delta /np.sqrt(1-delta.T@Omega_inv@delta)"
   ]
  },
  {
   "cell_type": "code",
   "execution_count": 46,
   "metadata": {},
   "outputs": [
    {
     "data": {
      "text/plain": [
       "0.0659583858465047"
      ]
     },
     "execution_count": 46,
     "metadata": {},
     "output_type": "execute_result"
    }
   ],
   "source": [
    "x = np.array([[0.1,1]]).T\n",
    "ACSyst_joint(x,Omega,alpha,1)"
   ]
  },
  {
   "cell_type": "code",
   "execution_count": 28,
   "metadata": {},
   "outputs": [],
   "source": [
    "def ACSyst_marginal(x,zeta_j,nu):\n",
    "    '''\n",
    "    x : scalar\n",
    "    '''\n",
    "    assert type(x) == float\n",
    "    x = np.array([[x]])\n",
    "    res = t(1,nu,x,np.array([[1]]))\n",
    "    res = res * T_one(nu+1,zeta_j*x*np.sqrt((nu+1)/(x**2+nu)))\n",
    "    return 2*res.item()"
   ]
  },
  {
   "cell_type": "code",
   "execution_count": 29,
   "metadata": {},
   "outputs": [
    {
     "data": {
      "text/plain": [
       "0.35860748244485613"
      ]
     },
     "execution_count": 29,
     "metadata": {},
     "output_type": "execute_result"
    }
   ],
   "source": [
    "ACSyst_marginal(0.5,1,1) "
   ]
  },
  {
   "cell_type": "code",
   "execution_count": null,
   "metadata": {},
   "outputs": [],
   "source": []
  },
  {
   "cell_type": "code",
   "execution_count": null,
   "metadata": {},
   "outputs": [],
   "source": []
  },
  {
   "cell_type": "markdown",
   "metadata": {},
   "source": []
  }
 ],
 "metadata": {
  "kernelspec": {
   "display_name": "research",
   "language": "python",
   "name": "python3"
  },
  "language_info": {
   "codemirror_mode": {
    "name": "ipython",
    "version": 3
   },
   "file_extension": ".py",
   "mimetype": "text/x-python",
   "name": "python",
   "nbconvert_exporter": "python",
   "pygments_lexer": "ipython3",
   "version": "3.9.16"
  },
  "orig_nbformat": 4
 },
 "nbformat": 4,
 "nbformat_minor": 2
}
