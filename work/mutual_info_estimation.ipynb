{
 "cells": [
  {
   "cell_type": "code",
   "execution_count": 2,
   "metadata": {},
   "outputs": [],
   "source": [
    "#!git clone https://github.com/karlstratos/doe.git"
   ]
  },
  {
   "cell_type": "code",
   "execution_count": 89,
   "metadata": {},
   "outputs": [],
   "source": [
    "import numpy as np\n",
    "import pandas as pd\n",
    "import matplotlib.pyplot as plt\n",
    "from scipy import stats"
   ]
  },
  {
   "attachments": {},
   "cell_type": "markdown",
   "metadata": {},
   "source": [
    "### データの生成（Gaussian）"
   ]
  },
  {
   "cell_type": "code",
   "execution_count": 95,
   "metadata": {},
   "outputs": [
    {
     "name": "stdout",
     "output_type": "stream",
     "text": [
      "相互情報量(ground truth)： 0.14384103622589045\n"
     ]
    }
   ],
   "source": [
    "# 期待値と分散共分散行列の準備\n",
    "rho = 0.5\n",
    "d = 1\n",
    "mean = np.array([0, 0])\n",
    "cov = np.array([[1, rho], [rho, 1]])\n",
    "I = -d*np.log(1-rho**2)/2\n",
    "print(\"相互情報量(ground truth)：\",I)"
   ]
  },
  {
   "cell_type": "code",
   "execution_count": 102,
   "metadata": {},
   "outputs": [],
   "source": [
    "# numpy を用いた生成\n",
    "dataset_x = []\n",
    "dataset_y = []\n",
    "\n",
    "\n",
    "for _ in range(1000):\n",
    "    data = np.random.multivariate_normal(mean, cov, size=d)\n",
    "    data_x = data[:,0]\n",
    "    data_y = data[:,1]\n",
    "    # dataset_x.append(list(data_x))\n",
    "    # dataset_y.append(list(data_y))\n",
    "    dataset_x.append(data[0][0])\n",
    "    dataset_y.append(data[0][1])"
   ]
  },
  {
   "cell_type": "code",
   "execution_count": 103,
   "metadata": {},
   "outputs": [
    {
     "data": {
      "text/plain": [
       "<matplotlib.collections.PathCollection at 0x15d21f820>"
      ]
     },
     "execution_count": 103,
     "metadata": {},
     "output_type": "execute_result"
    },
    {
     "data": {
      "image/png": "[encoded data removed]",
      "text/plain": [
       "<Figure size 360x360 with 1 Axes>"
      ]
     },
     "metadata": {
      "needs_background": "light"
     },
     "output_type": "display_data"
    }
   ],
   "source": [
    "plt.figure(figsize=(5,5))\n",
    "plt.scatter(dataset_x,dataset_y)"
   ]
  },
  {
   "cell_type": "code",
   "execution_count": 104,
   "metadata": {},
   "outputs": [
    {
     "data": {
      "text/plain": [
       "(0.49021000621000616, 0.33772972972972976)"
      ]
     },
     "execution_count": 104,
     "metadata": {},
     "output_type": "execute_result"
    }
   ],
   "source": [
    "sprho, p_value = stats.spearmanr(dataset_x, dataset_y)\n",
    "tau, p_value = stats.kendalltau(dataset_x, dataset_y)\n",
    "sprho,tau"
   ]
  },
  {
   "attachments": {},
   "cell_type": "markdown",
   "metadata": {},
   "source": [
    "### $I(X, Y) = H(X) + H(Y) − H(X, Y) = -H(C)$"
   ]
  },
  {
   "attachments": {},
   "cell_type": "markdown",
   "metadata": {},
   "source": [
    "### Truth"
   ]
  },
  {
   "cell_type": "code",
   "execution_count": 105,
   "metadata": {},
   "outputs": [
    {
     "data": {
      "text/plain": [
       "(1.4189385332046727, 1.4189385332046727)"
      ]
     },
     "execution_count": 105,
     "metadata": {},
     "output_type": "execute_result"
    }
   ],
   "source": [
    "import math\n",
    "def entropy_of_gaussian(mu,rho):\n",
    "    return (1+math.log(2*math.pi*rho*rho))/2\n",
    "\n",
    "h_x = entropy_of_gaussian(0,1)\n",
    "h_y = entropy_of_gaussian(0,1)\n",
    "h_x,h_y"
   ]
  },
  {
   "cell_type": "code",
   "execution_count": 83,
   "metadata": {},
   "outputs": [
    {
     "data": {
      "text/plain": [
       "0.879359292783501"
      ]
     },
     "execution_count": 83,
     "metadata": {},
     "output_type": "execute_result"
    }
   ],
   "source": [
    "h_xy = h_x+h_y-I\n",
    "h_xy"
   ]
  },
  {
   "attachments": {},
   "cell_type": "markdown",
   "metadata": {},
   "source": [
    "### simple\n",
    "- https://arxiv.org/pdf/cond-mat/0305641.pdf"
   ]
  },
  {
   "attachments": {},
   "cell_type": "markdown",
   "metadata": {},
   "source": [
    "$H(X)≈ \\frac{1}{N−1} \\sum_{i=1}^{N-1} \\log(x_{i+1} −x_i)+ψ(1)−ψ(N)$"
   ]
  },
  {
   "cell_type": "code",
   "execution_count": 84,
   "metadata": {},
   "outputs": [],
   "source": [
    "from scipy.special import psi"
   ]
  },
  {
   "cell_type": "code",
   "execution_count": 87,
   "metadata": {},
   "outputs": [],
   "source": [
    "def naive_KNN(x_raw):\n",
    "    x = sorted(x_raw)\n",
    "    N = len(x)\n",
    "    return sum([np.log(x[i]-x[i-1]) for i in range(1,N)])/(N-1) + (psi(1)-psi(N))"
   ]
  },
  {
   "cell_type": "code",
   "execution_count": 106,
   "metadata": {},
   "outputs": [
    {
     "name": "stdout",
     "output_type": "stream",
     "text": [
      "H(X)のnaiveな推定\n"
     ]
    },
    {
     "data": {
      "text/plain": [
       "-13.55177449253326"
      ]
     },
     "execution_count": 106,
     "metadata": {},
     "output_type": "execute_result"
    }
   ],
   "source": [
    "print(\"H(X)のnaiveな推定\")\n",
    "naive_KNN(dataset_x)"
   ]
  },
  {
   "attachments": {},
   "cell_type": "markdown",
   "metadata": {},
   "source": [
    "#### KNN based MI estimator\n",
    "- https://arxiv.org/pdf/cond-mat/0305641.pdf\n",
    "- $ψ(k)+ψ(n)−k1−n1􏰐n 􏰕ψ(nx(i))+ψ(ny(i))$"
   ]
  },
  {
   "cell_type": "code",
   "execution_count": 75,
   "metadata": {},
   "outputs": [],
   "source": [
    "def KSG(x_raw,k):\n",
    "    N = len(x_raw)\n",
    "    return psi(k)+psi(N)-1/k-sum([psi(calc_n(x,i))+psi(calc_n(y,i)) for i in range(N)])/N"
   ]
  },
  {
   "attachments": {},
   "cell_type": "markdown",
   "metadata": {},
   "source": [
    "### EDGEworth法\n",
    "- http://proceedings.mlr.press/v4/suzuki08a/suzuki08a.pdf"
   ]
  },
  {
   "cell_type": "code",
   "execution_count": null,
   "metadata": {},
   "outputs": [],
   "source": []
  },
  {
   "attachments": {},
   "cell_type": "markdown",
   "metadata": {},
   "source": [
    "### 最小情報コピュラを用いてhat(τ)から相互情報量を推定\n",
    "\n",
    "- $H[x]=\\frac{1}{2}(1+ln(2\\pi \\sigma^2))$"
   ]
  },
  {
   "cell_type": "code",
   "execution_count": 65,
   "metadata": {},
   "outputs": [],
   "source": [
    "def calc_negentropy(mat):\n",
    "    res = 0\n",
    "    for i in range(len(mat)):\n",
    "        for j in range(len(mat[0])):\n",
    "            if mat[i][j] != 0:            \n",
    "                res += mat[i][j]*np.log(mat[i][j])\n",
    "    return res"
   ]
  },
  {
   "cell_type": "code",
   "execution_count": 66,
   "metadata": {},
   "outputs": [
    {
     "name": "stdout",
     "output_type": "stream",
     "text": [
      "ρ: 0.4615036735036735\n",
      "τ: 0.3183103103103103\n"
     ]
    }
   ],
   "source": [
    "spr, p_value = stats.spearmanr(dataset_x, dataset_y)\n",
    "print(\"ρ:\",spr)\n",
    "tau, p_value = stats.kendalltau(dataset_x, dataset_y)\n",
    "print(\"τ:\",tau)"
   ]
  },
  {
   "cell_type": "code",
   "execution_count": 67,
   "metadata": {},
   "outputs": [],
   "source": [
    "mick = np.load(\"greedymick30-tau-0.318.npy\")\n",
    "mics = np.load(\"greedymics30-rho-0.461.npy\")"
   ]
  },
  {
   "cell_type": "code",
   "execution_count": 68,
   "metadata": {},
   "outputs": [
    {
     "name": "stdout",
     "output_type": "stream",
     "text": [
      "-6.797619658558861\n",
      "-5.472433320721932\n"
     ]
    }
   ],
   "source": [
    "print(calc_negentropy(mick))\n",
    "print(calc_negentropy(mics))"
   ]
  },
  {
   "cell_type": "code",
   "execution_count": null,
   "metadata": {},
   "outputs": [],
   "source": []
  }
 ],
 "metadata": {
  "kernelspec": {
   "display_name": "SBG",
   "language": "python",
   "name": "python3"
  },
  "language_info": {
   "codemirror_mode": {
    "name": "ipython",
    "version": 3
   },
   "file_extension": ".py",
   "mimetype": "text/x-python",
   "name": "python",
   "nbconvert_exporter": "python",
   "pygments_lexer": "ipython3",
   "version": "3.9.13"
  },
  "orig_nbformat": 4,
  "vscode": {
   "interpreter": {
    "hash": "c47666213ff4d410e205ccdad53e3deb6565f70bf5d03a05d498288bfaf6be0b"
   }
  }
 },
 "nbformat": 4,
 "nbformat_minor": 2
}
