{
 "cells": [
  {
   "cell_type": "code",
   "execution_count": 3,
   "metadata": {},
   "outputs": [],
   "source": [
    "import pandas as pd\n",
    "\n",
    "tse_list = pd.read_csv('../MIC/data/data_j.csv', header=0)"
   ]
  },
  {
   "cell_type": "code",
   "execution_count": 7,
   "metadata": {},
   "outputs": [
    {
     "data": {
      "text/html": [
       "<div>\n",
       "<style scoped>\n",
       "    .dataframe tbody tr th:only-of-type {\n",
       "        vertical-align: middle;\n",
       "    }\n",
       "\n",
       "    .dataframe tbody tr th {\n",
       "        vertical-align: top;\n",
       "    }\n",
       "\n",
       "    .dataframe thead th {\n",
       "        text-align: right;\n",
       "    }\n",
       "</style>\n",
       "<table border=\"1\" class=\"dataframe\">\n",
       "  <thead>\n",
       "    <tr style=\"text-align: right;\">\n",
       "      <th></th>\n",
       "      <th>日付</th>\n",
       "      <th>コード</th>\n",
       "      <th>銘柄名</th>\n",
       "      <th>市場・商品区分</th>\n",
       "      <th>33業種コード</th>\n",
       "      <th>33業種区分</th>\n",
       "      <th>17業種コード</th>\n",
       "      <th>17業種区分</th>\n",
       "      <th>規模コード</th>\n",
       "      <th>規模区分</th>\n",
       "    </tr>\n",
       "  </thead>\n",
       "  <tbody>\n",
       "    <tr>\n",
       "      <th>0</th>\n",
       "      <td>20230531</td>\n",
       "      <td>1301</td>\n",
       "      <td>極洋</td>\n",
       "      <td>プライム（内国株式）</td>\n",
       "      <td>50</td>\n",
       "      <td>水産・農林業</td>\n",
       "      <td>1</td>\n",
       "      <td>食品</td>\n",
       "      <td>7</td>\n",
       "      <td>TOPIX Small 2</td>\n",
       "    </tr>\n",
       "    <tr>\n",
       "      <th>1</th>\n",
       "      <td>20230531</td>\n",
       "      <td>1305</td>\n",
       "      <td>ｉＦｒｅｅＥＴＦ　ＴＯＰＩＸ（年１回決算型）</td>\n",
       "      <td>ETF・ETN</td>\n",
       "      <td>-</td>\n",
       "      <td>-</td>\n",
       "      <td>-</td>\n",
       "      <td>-</td>\n",
       "      <td>-</td>\n",
       "      <td>-</td>\n",
       "    </tr>\n",
       "    <tr>\n",
       "      <th>2</th>\n",
       "      <td>20230531</td>\n",
       "      <td>1306</td>\n",
       "      <td>ＮＥＸＴ　ＦＵＮＤＳ　ＴＯＰＩＸ連動型上場投信</td>\n",
       "      <td>ETF・ETN</td>\n",
       "      <td>-</td>\n",
       "      <td>-</td>\n",
       "      <td>-</td>\n",
       "      <td>-</td>\n",
       "      <td>-</td>\n",
       "      <td>-</td>\n",
       "    </tr>\n",
       "    <tr>\n",
       "      <th>3</th>\n",
       "      <td>20230531</td>\n",
       "      <td>1308</td>\n",
       "      <td>上場インデックスファンドＴＯＰＩＸ</td>\n",
       "      <td>ETF・ETN</td>\n",
       "      <td>-</td>\n",
       "      <td>-</td>\n",
       "      <td>-</td>\n",
       "      <td>-</td>\n",
       "      <td>-</td>\n",
       "      <td>-</td>\n",
       "    </tr>\n",
       "    <tr>\n",
       "      <th>4</th>\n",
       "      <td>20230531</td>\n",
       "      <td>1309</td>\n",
       "      <td>ＮＥＸＴ　ＦＵＮＤＳ　ＣｈｉｎａＡＭＣ・中国株式・上証５０連動型上場投信</td>\n",
       "      <td>ETF・ETN</td>\n",
       "      <td>-</td>\n",
       "      <td>-</td>\n",
       "      <td>-</td>\n",
       "      <td>-</td>\n",
       "      <td>-</td>\n",
       "      <td>-</td>\n",
       "    </tr>\n",
       "    <tr>\n",
       "      <th>...</th>\n",
       "      <td>...</td>\n",
       "      <td>...</td>\n",
       "      <td>...</td>\n",
       "      <td>...</td>\n",
       "      <td>...</td>\n",
       "      <td>...</td>\n",
       "      <td>...</td>\n",
       "      <td>...</td>\n",
       "      <td>...</td>\n",
       "      <td>...</td>\n",
       "    </tr>\n",
       "    <tr>\n",
       "      <th>4262</th>\n",
       "      <td>20230531</td>\n",
       "      <td>9993</td>\n",
       "      <td>ヤマザワ</td>\n",
       "      <td>スタンダード（内国株式）</td>\n",
       "      <td>6100</td>\n",
       "      <td>小売業</td>\n",
       "      <td>14</td>\n",
       "      <td>小売</td>\n",
       "      <td>7</td>\n",
       "      <td>TOPIX Small 2</td>\n",
       "    </tr>\n",
       "    <tr>\n",
       "      <th>4263</th>\n",
       "      <td>20230531</td>\n",
       "      <td>9994</td>\n",
       "      <td>やまや</td>\n",
       "      <td>スタンダード（内国株式）</td>\n",
       "      <td>6100</td>\n",
       "      <td>小売業</td>\n",
       "      <td>14</td>\n",
       "      <td>小売</td>\n",
       "      <td>7</td>\n",
       "      <td>TOPIX Small 2</td>\n",
       "    </tr>\n",
       "    <tr>\n",
       "      <th>4264</th>\n",
       "      <td>20230531</td>\n",
       "      <td>9995</td>\n",
       "      <td>グローセル</td>\n",
       "      <td>プライム（内国株式）</td>\n",
       "      <td>6050</td>\n",
       "      <td>卸売業</td>\n",
       "      <td>13</td>\n",
       "      <td>商社・卸売</td>\n",
       "      <td>7</td>\n",
       "      <td>TOPIX Small 2</td>\n",
       "    </tr>\n",
       "    <tr>\n",
       "      <th>4265</th>\n",
       "      <td>20230531</td>\n",
       "      <td>9996</td>\n",
       "      <td>サトー商会</td>\n",
       "      <td>スタンダード（内国株式）</td>\n",
       "      <td>6050</td>\n",
       "      <td>卸売業</td>\n",
       "      <td>13</td>\n",
       "      <td>商社・卸売</td>\n",
       "      <td>-</td>\n",
       "      <td>-</td>\n",
       "    </tr>\n",
       "    <tr>\n",
       "      <th>4266</th>\n",
       "      <td>20230531</td>\n",
       "      <td>9997</td>\n",
       "      <td>ベルーナ</td>\n",
       "      <td>プライム（内国株式）</td>\n",
       "      <td>6100</td>\n",
       "      <td>小売業</td>\n",
       "      <td>14</td>\n",
       "      <td>小売</td>\n",
       "      <td>6</td>\n",
       "      <td>TOPIX Small 1</td>\n",
       "    </tr>\n",
       "  </tbody>\n",
       "</table>\n",
       "<p>4267 rows × 10 columns</p>\n",
       "</div>"
      ],
      "text/plain": [
       "            日付   コード                                   銘柄名       市場・商品区分  \\\n",
       "0     20230531  1301                                    極洋    プライム（内国株式）   \n",
       "1     20230531  1305                ｉＦｒｅｅＥＴＦ　ＴＯＰＩＸ（年１回決算型）       ETF・ETN   \n",
       "2     20230531  1306               ＮＥＸＴ　ＦＵＮＤＳ　ＴＯＰＩＸ連動型上場投信       ETF・ETN   \n",
       "3     20230531  1308                     上場インデックスファンドＴＯＰＩＸ       ETF・ETN   \n",
       "4     20230531  1309  ＮＥＸＴ　ＦＵＮＤＳ　ＣｈｉｎａＡＭＣ・中国株式・上証５０連動型上場投信       ETF・ETN   \n",
       "...        ...   ...                                   ...           ...   \n",
       "4262  20230531  9993                                  ヤマザワ  スタンダード（内国株式）   \n",
       "4263  20230531  9994                                   やまや  スタンダード（内国株式）   \n",
       "4264  20230531  9995                                 グローセル    プライム（内国株式）   \n",
       "4265  20230531  9996                                 サトー商会  スタンダード（内国株式）   \n",
       "4266  20230531  9997                                  ベルーナ    プライム（内国株式）   \n",
       "\n",
       "     33業種コード  33業種区分 17業種コード  17業種区分 規模コード           規模区分  \n",
       "0         50  水産・農林業       1     食品      7  TOPIX Small 2  \n",
       "1          -       -       -       -     -              -  \n",
       "2          -       -       -       -     -              -  \n",
       "3          -       -       -       -     -              -  \n",
       "4          -       -       -       -     -              -  \n",
       "...      ...     ...     ...     ...   ...            ...  \n",
       "4262    6100     小売業      14     小売      7  TOPIX Small 2  \n",
       "4263    6100     小売業      14     小売      7  TOPIX Small 2  \n",
       "4264    6050     卸売業      13  商社・卸売      7  TOPIX Small 2  \n",
       "4265    6050     卸売業      13  商社・卸売      -              -  \n",
       "4266    6100     小売業      14     小売      6  TOPIX Small 1  \n",
       "\n",
       "[4267 rows x 10 columns]"
      ]
     },
     "execution_count": 7,
     "metadata": {},
     "output_type": "execute_result"
    }
   ],
   "source": [
    "tse_list"
   ]
  },
  {
   "cell_type": "code",
   "execution_count": 11,
   "metadata": {},
   "outputs": [
    {
     "data": {
      "text/plain": [
       "{'ETF・ETN',\n",
       " 'PRO Market',\n",
       " 'REIT・ベンチャーファンド・カントリーファンド・インフラファンド',\n",
       " 'グロース（内国株式）',\n",
       " 'グロース（外国株式）',\n",
       " 'スタンダード（内国株式）',\n",
       " 'スタンダード（外国株式）',\n",
       " 'プライム（内国株式）',\n",
       " 'プライム（外国株式）',\n",
       " '出資証券'}"
      ]
     },
     "execution_count": 11,
     "metadata": {},
     "output_type": "execute_result"
    }
   ],
   "source": [
    "set(tse_list[\"市場・商品区分\"].tolist())"
   ]
  },
  {
   "cell_type": "code",
   "execution_count": 10,
   "metadata": {},
   "outputs": [
    {
     "data": {
      "text/plain": [
       "{'-',\n",
       " 'TOPIX Core30',\n",
       " 'TOPIX Large70',\n",
       " 'TOPIX Mid400',\n",
       " 'TOPIX Small 1',\n",
       " 'TOPIX Small 2'}"
      ]
     },
     "execution_count": 10,
     "metadata": {},
     "output_type": "execute_result"
    }
   ],
   "source": [
    "set(tse_list[\"規模区分\"].tolist())"
   ]
  },
  {
   "cell_type": "code",
   "execution_count": 14,
   "metadata": {},
   "outputs": [],
   "source": [
    "# TOPIX500の銘柄を抽出する\n",
    "tse1 = tse_list[tse_list['市場・商品区分'] == 'プライム（内国株式）']\n",
    "topix500 = tse1[(tse1['規模区分'] == 'TOPIX Core30') | \n",
    "                (tse1['規模区分'] == 'TOPIX Large70') |\n",
    "                (tse1['規模区分'] == 'TOPIX Mid400')]"
   ]
  },
  {
   "cell_type": "code",
   "execution_count": 16,
   "metadata": {},
   "outputs": [
    {
     "data": {
      "text/plain": [
       "494"
      ]
     },
     "execution_count": 16,
     "metadata": {},
     "output_type": "execute_result"
    }
   ],
   "source": [
    "len(topix500)"
   ]
  },
  {
   "cell_type": "code",
   "execution_count": 17,
   "metadata": {},
   "outputs": [
    {
     "name": "stdout",
     "output_type": "stream",
     "text": [
      "33業種コード  33業種区分    \n",
      "1050     鉱業             1\n",
      "2050     建設業           19\n",
      "3050     食料品           27\n",
      "3100     繊維製品           5\n",
      "3150     パルプ・紙          3\n",
      "3200     化学            45\n",
      "3250     医薬品           19\n",
      "3300     石油・石炭製品        3\n",
      "3350     ゴム製品           4\n",
      "3400     ガラス・土石製品       8\n",
      "3450     鉄鋼             6\n",
      "3500     非鉄金属           7\n",
      "3550     金属製品           6\n",
      "3600     機械            32\n",
      "3650     電気機器          51\n",
      "3700     輸送用機器         19\n",
      "3750     精密機器          10\n",
      "3800     その他製品         10\n",
      "4050     電気・ガス業        13\n",
      "50       水産・農林業         2\n",
      "5050     陸運業           24\n",
      "5100     海運業            3\n",
      "5150     空運業            2\n",
      "5200     倉庫・運輸関連業       2\n",
      "5250     情報・通信業        38\n",
      "6050     卸売業           23\n",
      "6100     小売業           33\n",
      "7050     銀行業           22\n",
      "7100     証券、商品先物取引業     4\n",
      "7150     保険業            6\n",
      "7200     その他金融業         7\n",
      "8050     不動産業          13\n",
      "9050     サービス業         27\n",
      "dtype: int64\n"
     ]
    }
   ],
   "source": [
    "category_count = topix500.groupby(['33業種コード','33業種区分']).size()\n",
    "print(category_count)"
   ]
  },
  {
   "cell_type": "code",
   "execution_count": 18,
   "metadata": {},
   "outputs": [
    {
     "name": "stdout",
     "output_type": "stream",
     "text": [
      "dict_keys([('1050', '鉱業'), ('2050', '建設業'), ('3050', '食料品'), ('3100', '繊維製品'), ('3150', 'パルプ・紙'), ('3200', '化学'), ('3250', '医薬品'), ('3300', '石油・石炭製品'), ('3350', 'ゴム製品'), ('3400', 'ガラス・土石製品'), ('3450', '鉄鋼'), ('3500', '非鉄金属'), ('3550', '金属製品'), ('3600', '機械'), ('3650', '電気機器'), ('3700', '輸送用機器'), ('3750', '精密機器'), ('3800', 'その他製品'), ('4050', '電気・ガス業'), ('50', '水産・農林業'), ('5050', '陸運業'), ('5100', '海運業'), ('5150', '空運業'), ('5200', '倉庫・運輸関連業'), ('5250', '情報・通信業'), ('6050', '卸売業'), ('6100', '小売業'), ('7050', '銀行業'), ('7100', '証券、商品先物取引業'), ('7150', '保険業'), ('7200', 'その他金融業'), ('8050', '不動産業'), ('9050', 'サービス業')])\n"
     ]
    }
   ],
   "source": [
    "industry_category = topix500.groupby(['33業種コード','33業種区分']).groups.keys()\n",
    "print(industry_category)"
   ]
  },
  {
   "attachments": {},
   "cell_type": "markdown",
   "metadata": {},
   "source": [
    "https://predora005.hatenablog.com/entry/2021/03/08/190000"
   ]
  },
  {
   "cell_type": "code",
   "execution_count": 21,
   "metadata": {},
   "outputs": [],
   "source": [
    "import pandas_datareader.data as web\n",
    "from datetime import datetime, date, timedelta"
   ]
  },
  {
   "cell_type": "code",
   "execution_count": 38,
   "metadata": {},
   "outputs": [
    {
     "data": {
      "text/plain": [
       "['1605.JP']"
      ]
     },
     "execution_count": 38,
     "metadata": {},
     "output_type": "execute_result"
    }
   ],
   "source": [
    "symbols = []\n",
    "symbols.append('{0:d}.JP'.format(1605))\n",
    "symbols"
   ]
  },
  {
   "cell_type": "code",
   "execution_count": 39,
   "metadata": {},
   "outputs": [],
   "source": [
    "base_date = datetime(2020, 1, 6)\n",
    "end_date=datetime(2021, 2, 5)\n",
    "stock_price = web.DataReader(symbols, 'stooq', start=base_date, end=end_date)"
   ]
  },
  {
   "cell_type": "code",
   "execution_count": 40,
   "metadata": {},
   "outputs": [
    {
     "data": {
      "text/html": [
       "<div>\n",
       "<style scoped>\n",
       "    .dataframe tbody tr th:only-of-type {\n",
       "        vertical-align: middle;\n",
       "    }\n",
       "\n",
       "    .dataframe tbody tr th {\n",
       "        vertical-align: top;\n",
       "    }\n",
       "\n",
       "    .dataframe thead tr th {\n",
       "        text-align: left;\n",
       "    }\n",
       "\n",
       "    .dataframe thead tr:last-of-type th {\n",
       "        text-align: right;\n",
       "    }\n",
       "</style>\n",
       "<table border=\"1\" class=\"dataframe\">\n",
       "  <thead>\n",
       "    <tr>\n",
       "      <th>Attributes</th>\n",
       "      <th>Close</th>\n",
       "      <th>High</th>\n",
       "      <th>Low</th>\n",
       "      <th>Open</th>\n",
       "      <th>Volume</th>\n",
       "    </tr>\n",
       "    <tr>\n",
       "      <th>Symbols</th>\n",
       "      <th>1605.JP</th>\n",
       "      <th>1605.JP</th>\n",
       "      <th>1605.JP</th>\n",
       "      <th>1605.JP</th>\n",
       "      <th>1605.JP</th>\n",
       "    </tr>\n",
       "    <tr>\n",
       "      <th>Date</th>\n",
       "      <th></th>\n",
       "      <th></th>\n",
       "      <th></th>\n",
       "      <th></th>\n",
       "      <th></th>\n",
       "    </tr>\n",
       "  </thead>\n",
       "  <tbody>\n",
       "    <tr>\n",
       "      <th>2021-02-05</th>\n",
       "      <td>619.414</td>\n",
       "      <td>627.955</td>\n",
       "      <td>607.090</td>\n",
       "      <td>608.033</td>\n",
       "      <td>1.170298e+07</td>\n",
       "    </tr>\n",
       "    <tr>\n",
       "      <th>2021-02-04</th>\n",
       "      <td>603.287</td>\n",
       "      <td>610.884</td>\n",
       "      <td>600.446</td>\n",
       "      <td>608.033</td>\n",
       "      <td>1.018111e+07</td>\n",
       "    </tr>\n",
       "    <tr>\n",
       "      <th>2021-02-03</th>\n",
       "      <td>595.709</td>\n",
       "      <td>595.709</td>\n",
       "      <td>587.159</td>\n",
       "      <td>589.056</td>\n",
       "      <td>7.851187e+06</td>\n",
       "    </tr>\n",
       "    <tr>\n",
       "      <th>2021-02-02</th>\n",
       "      <td>579.582</td>\n",
       "      <td>586.216</td>\n",
       "      <td>571.985</td>\n",
       "      <td>575.778</td>\n",
       "      <td>6.922209e+06</td>\n",
       "    </tr>\n",
       "    <tr>\n",
       "      <th>2021-02-01</th>\n",
       "      <td>570.088</td>\n",
       "      <td>577.675</td>\n",
       "      <td>567.248</td>\n",
       "      <td>574.835</td>\n",
       "      <td>6.280823e+06</td>\n",
       "    </tr>\n",
       "    <tr>\n",
       "      <th>...</th>\n",
       "      <td>...</td>\n",
       "      <td>...</td>\n",
       "      <td>...</td>\n",
       "      <td>...</td>\n",
       "      <td>...</td>\n",
       "    </tr>\n",
       "    <tr>\n",
       "      <th>2020-01-10</th>\n",
       "      <td>1058.030</td>\n",
       "      <td>1059.390</td>\n",
       "      <td>1042.210</td>\n",
       "      <td>1047.180</td>\n",
       "      <td>5.143976e+06</td>\n",
       "    </tr>\n",
       "    <tr>\n",
       "      <th>2020-01-09</th>\n",
       "      <td>1044.460</td>\n",
       "      <td>1045.380</td>\n",
       "      <td>1022.770</td>\n",
       "      <td>1034.060</td>\n",
       "      <td>8.064022e+06</td>\n",
       "    </tr>\n",
       "    <tr>\n",
       "      <th>2020-01-08</th>\n",
       "      <td>1073.400</td>\n",
       "      <td>1100.530</td>\n",
       "      <td>1059.830</td>\n",
       "      <td>1093.760</td>\n",
       "      <td>9.753835e+06</td>\n",
       "    </tr>\n",
       "    <tr>\n",
       "      <th>2020-01-07</th>\n",
       "      <td>1069.790</td>\n",
       "      <td>1077.460</td>\n",
       "      <td>1053.960</td>\n",
       "      <td>1065.720</td>\n",
       "      <td>5.570382e+06</td>\n",
       "    </tr>\n",
       "    <tr>\n",
       "      <th>2020-01-06</th>\n",
       "      <td>1069.790</td>\n",
       "      <td>1076.120</td>\n",
       "      <td>1036.780</td>\n",
       "      <td>1044.460</td>\n",
       "      <td>9.969913e+06</td>\n",
       "    </tr>\n",
       "  </tbody>\n",
       "</table>\n",
       "<p>266 rows × 5 columns</p>\n",
       "</div>"
      ],
      "text/plain": [
       "Attributes     Close      High       Low      Open        Volume\n",
       "Symbols      1605.JP   1605.JP   1605.JP   1605.JP       1605.JP\n",
       "Date                                                            \n",
       "2021-02-05   619.414   627.955   607.090   608.033  1.170298e+07\n",
       "2021-02-04   603.287   610.884   600.446   608.033  1.018111e+07\n",
       "2021-02-03   595.709   595.709   587.159   589.056  7.851187e+06\n",
       "2021-02-02   579.582   586.216   571.985   575.778  6.922209e+06\n",
       "2021-02-01   570.088   577.675   567.248   574.835  6.280823e+06\n",
       "...              ...       ...       ...       ...           ...\n",
       "2020-01-10  1058.030  1059.390  1042.210  1047.180  5.143976e+06\n",
       "2020-01-09  1044.460  1045.380  1022.770  1034.060  8.064022e+06\n",
       "2020-01-08  1073.400  1100.530  1059.830  1093.760  9.753835e+06\n",
       "2020-01-07  1069.790  1077.460  1053.960  1065.720  5.570382e+06\n",
       "2020-01-06  1069.790  1076.120  1036.780  1044.460  9.969913e+06\n",
       "\n",
       "[266 rows x 5 columns]"
      ]
     },
     "execution_count": 40,
     "metadata": {},
     "output_type": "execute_result"
    }
   ],
   "source": [
    "stock_price"
   ]
  },
  {
   "cell_type": "code",
   "execution_count": null,
   "metadata": {},
   "outputs": [],
   "source": []
  }
 ],
 "metadata": {
  "kernelspec": {
   "display_name": "SBG",
   "language": "python",
   "name": "python3"
  },
  "language_info": {
   "codemirror_mode": {
    "name": "ipython",
    "version": 3
   },
   "file_extension": ".py",
   "mimetype": "text/x-python",
   "name": "python",
   "nbconvert_exporter": "python",
   "pygments_lexer": "ipython3",
   "version": "3.9.13"
  },
  "orig_nbformat": 4
 },
 "nbformat": 4,
 "nbformat_minor": 2
}
