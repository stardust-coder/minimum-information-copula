{
 "cells": [
  {
   "cell_type": "code",
   "execution_count": 1,
   "metadata": {},
   "outputs": [],
   "source": [
    "from MIC import *\n",
    "import pandas as pd\n",
    "import matplotlib.pyplot as plt"
   ]
  },
  {
   "cell_type": "code",
   "execution_count": null,
   "metadata": {},
   "outputs": [],
   "source": [
    "#Load dataset\n",
    "df = dataloader.load_data_template(\"trading_jp\", start=(2010,1,1),end=(2020,12,31),log_return=True) #currently only support 5 major Japanese trading firms.\n",
    "df = df.iloc[:,[0,1]] #choose 2 columns.\n",
    "\n",
    "#Calculate statistics\n",
    "tau,rho,_,_,_,_= stats.calc_bivar_stats(df)\n",
    "\n",
    "#Fit 30x30 MICK/MICS to data. Other gridsizes will be coming soon...\n",
    "#About 1min.\n",
    "mick = copula.greedy_MICK(size=30,invariance=copula.plor(tau.statistic)) #need to convert tau into pseudo log odds ratio\n",
    "mics = copula.greedy_MICS(size=30,invariance=copula.lor(rho.statistic)) #need to convert rho into log odds ratio"
   ]
  },
  {
   "cell_type": "code",
   "execution_count": null,
   "metadata": {},
   "outputs": [],
   "source": [
    "#Sample from MICK\n",
    "samples = sampler.sample_from_ccopula(mick,sample_size=1000,save_csv=False)\n",
    "plt.figure(figsize=(5,5))\n",
    "plt.scatter(samples.values[:,0],samples.values[:,1])"
   ]
  },
  {
   "cell_type": "code",
   "execution_count": null,
   "metadata": {},
   "outputs": [],
   "source": [
    "#Visualize copula densities\n",
    "visualize.three_dim_plot_flatten(mics, top=0.01) #top means the upper bound of the density"
   ]
  },
  {
   "cell_type": "code",
   "execution_count": null,
   "metadata": {},
   "outputs": [],
   "source": [
    "#Sample from MICS\n",
    "samples = sampler.sample_from_ccopula(mics,sample_size=1000,save_csv=False)\n",
    "plt.figure(figsize=(5,5))\n",
    "plt.scatter(samples.values[:,0],samples.values[:,1])"
   ]
  },
  {
   "cell_type": "code",
   "execution_count": null,
   "metadata": {},
   "outputs": [],
   "source": [
    "#Visualize copula densities\n",
    "visualize.three_dim_plot_flatten(mics, top=0.01) #top means the upper bound of the density"
   ]
  }
 ],
 "metadata": {
  "kernelspec": {
   "display_name": "research",
   "language": "python",
   "name": "python3"
  },
  "language_info": {
   "codemirror_mode": {
    "name": "ipython",
    "version": 3
   },
   "file_extension": ".py",
   "mimetype": "text/x-python",
   "name": "python",
   "nbconvert_exporter": "python",
   "pygments_lexer": "ipython3",
   "version": "3.9.16"
  },
  "orig_nbformat": 4
 },
 "nbformat": 4,
 "nbformat_minor": 2
}
