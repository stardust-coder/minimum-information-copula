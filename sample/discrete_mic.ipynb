{
 "cells": [
  {
   "attachments": {},
   "cell_type": "markdown",
   "metadata": {},
   "source": [
    "# Minimum information checkerboard copula\n",
    "\n",
    "Sukeda and Sei (2023)\n",
    "\n",
    "Main results\n",
    "- MICK and MICS\n",
    "- greedy calculation\n",
    "- coordinate transformation\n",
    "- invariant value named \"pseudo log odds ratio\""
   ]
  },
  {
   "cell_type": "code",
   "execution_count": null,
   "metadata": {},
   "outputs": [],
   "source": []
  }
 ],
 "metadata": {
  "language_info": {
   "name": "python"
  },
  "orig_nbformat": 4
 },
 "nbformat": 4,
 "nbformat_minor": 2
}
